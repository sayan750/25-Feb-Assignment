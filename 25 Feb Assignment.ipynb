{
 "cells": [
  {
   "cell_type": "markdown",
   "id": "a9079df6",
   "metadata": {},
   "source": [
    "### 1."
   ]
  },
  {
   "cell_type": "code",
   "execution_count": 1,
   "id": "8c46c1a9",
   "metadata": {},
   "outputs": [],
   "source": [
    "import pandas as pd\n",
    "course_name = ['Data Science', 'Machine Learning', 'Big Data', 'Data Engineer']\n",
    "duration = [2,3,6,4]\n",
    "df = pd.DataFrame(data = {'course_name' : course_name, 'duration' : duration})"
   ]
  },
  {
   "cell_type": "code",
   "execution_count": 2,
   "id": "ba3bbcfd",
   "metadata": {},
   "outputs": [
    {
     "data": {
      "text/html": [
       "<div>\n",
       "<style scoped>\n",
       "    .dataframe tbody tr th:only-of-type {\n",
       "        vertical-align: middle;\n",
       "    }\n",
       "\n",
       "    .dataframe tbody tr th {\n",
       "        vertical-align: top;\n",
       "    }\n",
       "\n",
       "    .dataframe thead th {\n",
       "        text-align: right;\n",
       "    }\n",
       "</style>\n",
       "<table border=\"1\" class=\"dataframe\">\n",
       "  <thead>\n",
       "    <tr style=\"text-align: right;\">\n",
       "      <th></th>\n",
       "      <th>course_name</th>\n",
       "      <th>duration</th>\n",
       "    </tr>\n",
       "  </thead>\n",
       "  <tbody>\n",
       "    <tr>\n",
       "      <th>0</th>\n",
       "      <td>Data Science</td>\n",
       "      <td>2</td>\n",
       "    </tr>\n",
       "    <tr>\n",
       "      <th>1</th>\n",
       "      <td>Machine Learning</td>\n",
       "      <td>3</td>\n",
       "    </tr>\n",
       "    <tr>\n",
       "      <th>2</th>\n",
       "      <td>Big Data</td>\n",
       "      <td>6</td>\n",
       "    </tr>\n",
       "    <tr>\n",
       "      <th>3</th>\n",
       "      <td>Data Engineer</td>\n",
       "      <td>4</td>\n",
       "    </tr>\n",
       "  </tbody>\n",
       "</table>\n",
       "</div>"
      ],
      "text/plain": [
       "        course_name  duration\n",
       "0      Data Science         2\n",
       "1  Machine Learning         3\n",
       "2          Big Data         6\n",
       "3     Data Engineer         4"
      ]
     },
     "execution_count": 2,
     "metadata": {},
     "output_type": "execute_result"
    }
   ],
   "source": [
    "df"
   ]
  },
  {
   "cell_type": "code",
   "execution_count": 3,
   "id": "ceca4963",
   "metadata": {},
   "outputs": [
    {
     "name": "stdout",
     "output_type": "stream",
     "text": [
      "course_name    Machine Learning\n",
      "duration                      3\n",
      "Name: 1, dtype: object\n"
     ]
    }
   ],
   "source": [
    "print(df.iloc[1])"
   ]
  },
  {
   "cell_type": "markdown",
   "id": "fff24a09",
   "metadata": {},
   "source": [
    "### 2.\n",
    "\n",
    "**The key difference between loc and iloc is that loc uses label-based indexing, while iloc uses integer-based indexing.**"
   ]
  },
  {
   "cell_type": "markdown",
   "id": "d35e2d9d",
   "metadata": {},
   "source": [
    "### 3."
   ]
  },
  {
   "cell_type": "code",
   "execution_count": 4,
   "id": "f1687fbf",
   "metadata": {},
   "outputs": [],
   "source": [
    "f = {'A':['Sayan', 'Male', 22, 'Student']}"
   ]
  },
  {
   "cell_type": "code",
   "execution_count": 5,
   "id": "1a0253cf",
   "metadata": {},
   "outputs": [],
   "source": [
    "df = pd.DataFrame(f)"
   ]
  },
  {
   "cell_type": "code",
   "execution_count": 6,
   "id": "d09f77ab",
   "metadata": {},
   "outputs": [],
   "source": [
    "reindex = [3,0,1,2]"
   ]
  },
  {
   "cell_type": "code",
   "execution_count": 7,
   "id": "c92de3a2",
   "metadata": {},
   "outputs": [],
   "source": [
    "new_df = df.reindex(reindex)"
   ]
  },
  {
   "cell_type": "code",
   "execution_count": 8,
   "id": "33dbdf86",
   "metadata": {},
   "outputs": [
    {
     "name": "stdout",
     "output_type": "stream",
     "text": [
      "         A\n",
      "3  Student\n",
      "0    Sayan\n",
      "1     Male\n",
      "2       22\n"
     ]
    }
   ],
   "source": [
    "print(new_df)"
   ]
  },
  {
   "cell_type": "code",
   "execution_count": 9,
   "id": "4b437ad9",
   "metadata": {},
   "outputs": [
    {
     "data": {
      "text/plain": [
       "A    22\n",
       "Name: 2, dtype: object"
      ]
     },
     "execution_count": 9,
     "metadata": {},
     "output_type": "execute_result"
    }
   ],
   "source": [
    "new_df.loc[2]"
   ]
  },
  {
   "cell_type": "code",
   "execution_count": 10,
   "id": "73ddb2b4",
   "metadata": {},
   "outputs": [
    {
     "data": {
      "text/plain": [
       "A    Male\n",
       "Name: 1, dtype: object"
      ]
     },
     "execution_count": 10,
     "metadata": {},
     "output_type": "execute_result"
    }
   ],
   "source": [
    "new_df.iloc[2]"
   ]
  },
  {
   "cell_type": "markdown",
   "id": "7a4e8837",
   "metadata": {},
   "source": [
    "**There are some difference between 2 outputs.**\n",
    "\n",
    "**1. new_df.loc[2] will retrieve the row with label 2 from the new_df dataframe.**\n",
    "**2. new_df.iloc[2] will retrieve the third row (index 2) from the new_df dataframe.**"
   ]
  },
  {
   "cell_type": "markdown",
   "id": "52caf801",
   "metadata": {},
   "source": [
    "### 4."
   ]
  },
  {
   "cell_type": "code",
   "execution_count": 11,
   "id": "f6e4ee81",
   "metadata": {},
   "outputs": [],
   "source": [
    "import pandas as pd\n",
    "import numpy as np\n",
    "columns = ['column_1', 'column_2', 'column_3', 'column_4', 'column_5', 'column_6']\n",
    "indices = [1,2,3,4,5,6]\n",
    "\n",
    "df1 = pd.DataFrame(np.random.rand(6,6), columns = columns, index = indices)"
   ]
  },
  {
   "cell_type": "code",
   "execution_count": 12,
   "id": "a89b8d84",
   "metadata": {},
   "outputs": [
    {
     "data": {
      "text/plain": [
       "column_1    0.531048\n",
       "column_2    0.449463\n",
       "column_3    0.493332\n",
       "column_4    0.482572\n",
       "column_5    0.414117\n",
       "column_6    0.652394\n",
       "dtype: float64"
      ]
     },
     "execution_count": 12,
     "metadata": {},
     "output_type": "execute_result"
    }
   ],
   "source": [
    "df1.mean()"
   ]
  },
  {
   "cell_type": "code",
   "execution_count": 13,
   "id": "26e17165",
   "metadata": {},
   "outputs": [
    {
     "data": {
      "text/plain": [
       "0.2817366788205406"
      ]
     },
     "execution_count": 13,
     "metadata": {},
     "output_type": "execute_result"
    }
   ],
   "source": [
    "df1['column_2'].std()"
   ]
  },
  {
   "cell_type": "markdown",
   "id": "3a5cd6bb",
   "metadata": {},
   "source": [
    "### 5."
   ]
  },
  {
   "cell_type": "code",
   "execution_count": 14,
   "id": "1ec0290f",
   "metadata": {},
   "outputs": [
    {
     "data": {
      "text/plain": [
       "0.2782511401171579"
      ]
     },
     "execution_count": 14,
     "metadata": {},
     "output_type": "execute_result"
    }
   ],
   "source": [
    "df1.loc[2, 'column_2'].mean()"
   ]
  },
  {
   "cell_type": "markdown",
   "id": "4bd44d07",
   "metadata": {},
   "source": [
    "**Here should be no errors in executing this code. However, keep in mind that replacing a numerical value in a column with a string may affect other computations and analysis of the data, so it is important to be aware of the data types in your DataFrame.**"
   ]
  },
  {
   "cell_type": "markdown",
   "id": "05c5aff9",
   "metadata": {},
   "source": [
    "### 6.\n",
    "\n",
    "**In pandas, a window function is a function that operates on a sliding window of data, usually defined by a time-based or index-based window. It is used to perform calculations on a subset of data, such as moving averages or rolling sums. The window function is applied to a specified column or series of a dataframe, and the result is returned in a new column.**\n",
    "\n",
    "**The types of window functions in pandas are:-**\n",
    "\n",
    "1. Rolling: This type of window function applies a rolling computation to the data. It uses a fixed-size window of data to calculate a statistic, such as mean or sum, over a moving window of the data.\n",
    "\n",
    "2. Groupby: This type of window function groups the data by a specified column, and applies a window function to each group. It is useful for calculating group-wise statistics, such as the mean or median, over a moving window of data.\n",
    "\n",
    "3. Time-based: This type of window function applies a window of data based on time intervals, such as days or weeks. It is useful for calculating statistics over time, such as moving averages or rolling sums of sales data."
   ]
  },
  {
   "cell_type": "markdown",
   "id": "cdd3b793",
   "metadata": {},
   "source": [
    "### 7."
   ]
  },
  {
   "cell_type": "code",
   "execution_count": 15,
   "id": "863cfae7",
   "metadata": {},
   "outputs": [
    {
     "name": "stderr",
     "output_type": "stream",
     "text": [
      "C:\\Users\\DELL\\AppData\\Local\\Temp\\ipykernel_30560\\3248197869.py:1: FutureWarning: The pandas.datetime class is deprecated and will be removed from pandas in a future version. Import from datetime module instead.\n",
      "  p = pd.datetime.now()\n"
     ]
    }
   ],
   "source": [
    "p = pd.datetime.now()"
   ]
  },
  {
   "cell_type": "code",
   "execution_count": 16,
   "id": "cd105d6a",
   "metadata": {},
   "outputs": [
    {
     "data": {
      "text/plain": [
       "4"
      ]
     },
     "execution_count": 16,
     "metadata": {},
     "output_type": "execute_result"
    }
   ],
   "source": [
    "p.month"
   ]
  },
  {
   "cell_type": "code",
   "execution_count": 17,
   "id": "cb71d428",
   "metadata": {},
   "outputs": [
    {
     "data": {
      "text/plain": [
       "2023"
      ]
     },
     "execution_count": 17,
     "metadata": {},
     "output_type": "execute_result"
    }
   ],
   "source": [
    "p.year"
   ]
  },
  {
   "cell_type": "markdown",
   "id": "57cf79c5",
   "metadata": {},
   "source": [
    "### 8."
   ]
  },
  {
   "cell_type": "code",
   "execution_count": 18,
   "id": "7edeb297",
   "metadata": {},
   "outputs": [
    {
     "name": "stdout",
     "output_type": "stream",
     "text": [
      "Enter the first date (YYYY-MM-DD): 2023-03-01\n",
      "Enter the second date (YYYY-MM-DD): 2023-08-08\n",
      "The difference between the two dates is:\n",
      "160 days, 0 hours, and 0 minutes.\n"
     ]
    }
   ],
   "source": [
    "import pandas as pd\n",
    "\n",
    "date1 = input(\"Enter the first date (YYYY-MM-DD): \")\n",
    "date2 = input(\"Enter the second date (YYYY-MM-DD): \")\n",
    "\n",
    "date1 = pd.to_datetime(date1)\n",
    "date2 = pd.to_datetime(date2) \n",
    "\n",
    "delta = date2 - date1\n",
    "\n",
    "days = delta.days\n",
    "hours = delta.seconds // 3600\n",
    "minutes = (delta.seconds // 60) % 60\n",
    "\n",
    "print(\"The difference between the two dates is:\")\n",
    "print(f\"{days} days, {hours} hours, and {minutes} minutes.\")"
   ]
  },
  {
   "cell_type": "markdown",
   "id": "5e90c4d5",
   "metadata": {},
   "source": [
    "### 9."
   ]
  },
  {
   "cell_type": "code",
   "execution_count": 19,
   "id": "3aa78ef3",
   "metadata": {},
   "outputs": [],
   "source": [
    "data = {'name': ['Sayan', 'Mike', 'Sarah', 'Jane'],\n",
    "        'age': [25, 30, 28, 22],\n",
    "        'city': ['New York', 'Los Angeles', 'Chicago', 'Houston'],\n",
    "       'Profession':['CEO', 'MARKETING HEAD', 'BUSINESS ANALYST', 'OPERATION ANALYST']}\n",
    "\n",
    "df = pd.DataFrame(data)"
   ]
  },
  {
   "cell_type": "code",
   "execution_count": 22,
   "id": "d7160f8a",
   "metadata": {},
   "outputs": [],
   "source": [
    "df.to_csv(\"MyData.csv\", index=False)"
   ]
  },
  {
   "cell_type": "code",
   "execution_count": 26,
   "id": "4eced354",
   "metadata": {},
   "outputs": [
    {
     "name": "stdout",
     "output_type": "stream",
     "text": [
      "Enter the file path: MyData.csv\n",
      "Enter the column name to convert: city\n",
      "Enter the category order (comma-separated): CEO, MARKETING HEAD\n",
      "    name  age city         Profession\n",
      "0  Sayan   25  NaN                CEO\n",
      "1   Mike   30  NaN     MARKETING HEAD\n",
      "2  Sarah   28  NaN   BUSINESS ANALYST\n",
      "3   Jane   22  NaN  OPERATION ANALYST\n"
     ]
    }
   ],
   "source": [
    "import pandas as pd\n",
    "\n",
    "file_path = input(\"Enter the file path: \")\n",
    "column_name = input(\"Enter the column name to convert: \")\n",
    "category_order = input(\"Enter the category order (comma-separated): \").split(\",\")\n",
    "\n",
    "df = pd.read_csv(file_path)\n",
    "\n",
    "df[column_name] = pd.Categorical(df[column_name], categories=category_order, ordered=True)\n",
    "\n",
    "df_sorted = df.sort_values(by=column_name)\n",
    "\n",
    "print(df_sorted)"
   ]
  },
  {
   "cell_type": "markdown",
   "id": "fbfdf407",
   "metadata": {},
   "source": [
    "### 10."
   ]
  },
  {
   "cell_type": "code",
   "execution_count": 7,
   "id": "4ccdcc93",
   "metadata": {},
   "outputs": [],
   "source": [
    "a = ({'Product': ['Garlic', 'Cucumber', 'Carrot'],\n",
    "      'Price': [10.99, 8.99, 15.99],\n",
    "      'Month': ['Jan', 'Feb', 'Mar'],\n",
    "      'Quantity': [100, 200, 50]})"
   ]
  },
  {
   "cell_type": "code",
   "execution_count": 8,
   "id": "079c0072",
   "metadata": {},
   "outputs": [],
   "source": [
    "df1 = pd.DataFrame(a)"
   ]
  },
  {
   "cell_type": "code",
   "execution_count": 9,
   "id": "8f713143",
   "metadata": {},
   "outputs": [],
   "source": [
    "df1.to_csv(\"Sales_Data.csv\", index=False)"
   ]
  },
  {
   "cell_type": "code",
   "execution_count": 17,
   "id": "e0e0ed85",
   "metadata": {},
   "outputs": [
    {
     "name": "stdout",
     "output_type": "stream",
     "text": [
      "Enter the path name: Sales_Data.csv\n"
     ]
    },
    {
     "data": {
      "text/plain": [
       "<AxesSubplot:xlabel='Month'>"
      ]
     },
     "execution_count": 17,
     "metadata": {},
     "output_type": "execute_result"
    },
    {
     "data": {
      "image/png": "[encoded data removed]",
      "text/plain": [
       "<Figure size 640x480 with 1 Axes>"
      ]
     },
     "metadata": {},
     "output_type": "display_data"
    }
   ],
   "source": [
    "file_path = input(\"Enter the path name: \")\n",
    "\n",
    "r = pd.read_csv(file_path)\n",
    "\n",
    "t = pd.pivot_table(r, index='Month')\n",
    "\n",
    "t.plot(kind='bar', stacked = True)"
   ]
  },
  {
   "cell_type": "markdown",
   "id": "f75fdb1d",
   "metadata": {},
   "source": [
    "### 11."
   ]
  },
  {
   "cell_type": "code",
   "execution_count": 22,
   "id": "11524771",
   "metadata": {},
   "outputs": [],
   "source": [
    "l = [{'ID': '1M3', 'Test_Score': 25},\n",
    "    {'ID': '1N3', 'Test_Score': 29},\n",
    "    {'ID': '1O3', 'Test_Score': 30},\n",
    "    {'ID': '1P3', 'Test_Score': 21},\n",
    "    {'ID': '1Q3', 'Test_Score': 24}]"
   ]
  },
  {
   "cell_type": "code",
   "execution_count": 23,
   "id": "ed0e17df",
   "metadata": {},
   "outputs": [],
   "source": [
    "df2 = pd.DataFrame(l)"
   ]
  },
  {
   "cell_type": "code",
   "execution_count": 24,
   "id": "875fc7c9",
   "metadata": {},
   "outputs": [],
   "source": [
    "df2.to_csv(\"Stu_Data.csv\", index=False)"
   ]
  },
  {
   "cell_type": "code",
   "execution_count": 25,
   "id": "77b99023",
   "metadata": {},
   "outputs": [
    {
     "name": "stdout",
     "output_type": "stream",
     "text": [
      "Enter the file name here:- Stu_Data.csv\n",
      "+-----------+--------+\n",
      "| Statistic | Value  |\n",
      "+-----------+--------+\n",
      "| Mean      | 25.8   |\n",
      "| Median    | 25     |\n",
      "| Mode      | 21     |\n",
      "+-----------+--------+\n",
      "    ID  Test_Score\n",
      "0  1M3          25\n",
      "1  1N3          29\n",
      "2  1O3          30\n",
      "3  1P3          21\n",
      "4  1Q3          24\n"
     ]
    }
   ],
   "source": [
    "file = input(\"Enter the file name here:- \")\n",
    "\n",
    "y = pd.read_csv(file)\n",
    "\n",
    "mean = y['Test_Score'].mean()\n",
    "median = y['Test_Score'].median()\n",
    "mode = y['Test_Score'].mode()[0]\n",
    "\n",
    "print(\"+-----------+--------+\")\n",
    "print(\"| Statistic | Value  |\")\n",
    "print(\"+-----------+--------+\")\n",
    "print(\"| Mean      | {}   |\".format(mean))\n",
    "print(\"| Median    | {}     |\".format(int(median)))\n",
    "print(\"| Mode      | {}     |\".format(mode))\n",
    "print(\"+-----------+--------+\")\n",
    "\n",
    "h = {'Mean' : mean, 'Median' : median, 'Mode' : mode}\n",
    "\n",
    "print(pd.DataFrame(y))"
   ]
  },
  {
   "cell_type": "code",
   "execution_count": null,
   "id": "5a152fe5",
   "metadata": {},
   "outputs": [],
   "source": []
  },
  {
   "cell_type": "code",
   "execution_count": null,
   "id": "f6e83bf0",
   "metadata": {},
   "outputs": [],
   "source": []
  },
  {
   "cell_type": "code",
   "execution_count": null,
   "id": "1a22cb42",
   "metadata": {},
   "outputs": [],
   "source": []
  },
  {
   "cell_type": "code",
   "execution_count": null,
   "id": "46b83bc6",
   "metadata": {},
   "outputs": [],
   "source": []
  },
  {
   "cell_type": "code",
   "execution_count": null,
   "id": "41c90e4d",
   "metadata": {},
   "outputs": [],
   "source": []
  }
 ],
 "metadata": {
  "kernelspec": {
   "display_name": "Python 3 (ipykernel)",
   "language": "python",
   "name": "python3"
  },
  "language_info": {
   "codemirror_mode": {
    "name": "ipython",
    "version": 3
   },
   "file_extension": ".py",
   "mimetype": "text/x-python",
   "name": "python",
   "nbconvert_exporter": "python",
   "pygments_lexer": "ipython3",
   "version": "3.9.13"
  }
 },
 "nbformat": 4,
 "nbformat_minor": 5
}
